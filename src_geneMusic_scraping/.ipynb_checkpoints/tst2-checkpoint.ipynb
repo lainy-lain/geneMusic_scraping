{
 "cells": [
  {
   "cell_type": "code",
   "execution_count": 3,
   "id": "b8ff2c34",
   "metadata": {
    "scrolled": true
   },
   "outputs": [
    {
     "name": "stderr",
     "output_type": "stream",
     "text": [
      "<ipython-input-3-78626fa46154>:6: DeprecationWarning: executable_path has been deprecated, please pass in a Service object\n",
      "  driver = webdriver.Chrome('D:\\webcrawling\\chromedriver.exe')\n"
     ]
    }
   ],
   "source": [
    "from selenium import webdriver\n",
    "from bs4 import BeautifulSoup\n",
    "import re\n",
    "import time\n",
    "\n",
    "driver = webdriver.Chrome('D:\\webcrawling\\chromedriver.exe')"
   ]
  },
  {
   "cell_type": "code",
   "execution_count": 5,
   "id": "4e1cd46c",
   "metadata": {
    "scrolled": true
   },
   "outputs": [
    {
     "name": "stdout",
     "output_type": "stream",
     "text": [
      "['98918613', '98891333', '98891146', '98889965', '98889660', '98889648', '98889580', '98889511', '98889445', '98889328', '98888140', '98887720', '98887593', '98887455', '98887379', '98887067', '98886901', '98886605', '98886444', '98886274', '98885859', '98885424', '98879859', '98879688', '98879431', '98878820', '98878433', '98878355', '98875858', '98875681']\n",
      "['83148207', '83139603', '83139550', '83139387', '83139334', '83139330', '83139316', '83139306', '83139291', '83139261', '83139018', '83138927', '83138894', '83138856', '83138849', '83138778', '83138746', '83138650', '83138591', '83138533', '83138405', '83138295', '83136974', '83136917', '83136845', '83136678', '83136536', '83136506', '83135918', '83135890']\n"
     ]
    }
   ],
   "source": [
    "url_format = \"https://www.genie.co.kr/genre/{}?genreCode={}&pg={}\"\n",
    "genreCode = [\"M0100\"]\n",
    "\n",
    "songID = []\n",
    "albumID = []\n",
    "\n",
    "for gCode in genreCode:\n",
    "    for page in range(1,2):\n",
    "        url = url_format.format(gCode, gCode, page) #크롤링할 URL\n",
    "        driver.get(url)\n",
    "        chart = driver.page_source\n",
    "        soup = BeautifulSoup(chart, 'html.parser') #URL의 HTML을 읽어옴\n",
    "\n",
    "        # 해당 HTML에서 selector 영역만 parsing \n",
    "        selector = \"#body-content > div.songlist-box > div > table > tbody > tr.list\"\n",
    "        raw_data = soup.select(selector)\n",
    "        for tag in raw_data:\n",
    "            songID.append( tag.get('songid') )\n",
    "\n",
    "        # 해당 HTML에서 selector 영역만 parsing (앨범 정보 영역)\n",
    "        selector = \"#body-content > div.songlist-box > div > table > tbody > tr.list > td.info > a.albumtitle.ellipsis\"\n",
    "        raw_data = soup.select(selector)\n",
    "        for tag in raw_data:\n",
    "            string = tag.get('onclick')\n",
    "            album_id = re.sub(r'[^0-9]', '', string)\n",
    "            albumID.append( album_id )\n"
   ]
  },
  {
   "cell_type": "code",
   "execution_count": 6,
   "id": "82b21490",
   "metadata": {},
   "outputs": [
    {
     "name": "stdout",
     "output_type": "stream",
     "text": [
      "[['쉬워 (Feat. 초월)', '화아 (HwA)', '화아 (HwA)', '03:08', '화아 (HwA),곽승현', '22', '', '2022.11.07', 'talented', 'Universal Music', '쉬워', '가요 / R&B/소울'], ['I Think About Your Love', '윤원', '윤원', '윤원', 'J.Y studio', '156', '8', '2022.11.07', '마그넷 뮤직', '뮤직앤뉴', '가요 / 발라드', '03:15'], ['우주 (Galaxy)', 'J.glo (제이글로)', '권주영', '권주영', '권주영', '2', '', '2022.11.07', '마하나임', '뮤직앤뉴', '가요 / 블루스/포크', '03:42'], ['멋진 인생', '백발소년단', '날아라 슈퍼맨', '날아라 슈퍼맨', '8', '1', '2022.11.07', '신희재', '㈜다날엔터테인먼트', '가요 / 트로트', '03:30'], ['Victory (빅토리)', '뉴키드 (Newkidd)', '다비 (DAVII)', '다비 (DAVII)', 'Dashorn', '72', '1', '2022.11.07', '제이플로 엔터테인먼트', '워너뮤직', '가요 / 댄스', '03:03'], ['널 찾아가', '한이서', '한이서,UL', '한이서', 'UL,정인경', '4', '1', '2022.11.07', '한이서 뮤직', '㈜다날엔터테인먼트', '가요 / R&B/소울', '02:54'], ['Drown in you', '김선하', '김선하', '김선하', 'SHHH,김선하', '8', '1', '2022.11.07', '디에이블 뮤직', '(주) 광수미디어', '가요 / R&B/소울', '02:59'], ['각인', '이성욱', '최현남', '최현남', '최현남', '2', '', '2022.11.07', '(주)촉뮤직엔터테인먼트', '㈜다날엔터테인먼트', '가요 / 락', '03:29'], ['Heaven', '일리아 (ILYA)', '일리아 (ILYA),Beatbox DG', '일리아 (ILYA)', '일리아 (ILYA),Beatbox DG', '63', '3', '2022.11.07', '프리퀀시 레코즈,엔라이크', 'Dreamus', '가요 / R&B/소울', '03:25'], ['아무것도 하지 못했어', '윤대천', '윤대천', '윤대천', '윤대천', '4', '', '2022.11.07', 'DCP', '아토엔터테인먼트', '가요 / 락', '04:09'], ['Happy Birthday', '강아솔 & 이예린 & 박진휘', '전진희', '전진희,이예린,강건후', '강건후', '173', '5', '2022.11.07', '작은평화', '포크라노스', '가요 / 인디', '02:41'], ['우리의 이야기', '함수진 (FX)', '함수진 (FX)', '함수진 (FX)', '함수진 (FX)', '23', '', '2022.11.07', 'Team N Genius', '오감엔터테인먼트', '가요 / 발라드', '03:45'], ['다시 돌아갈 수 있을까', 'SE YEON (이세연)', 'SE YEON (이세연),이범훈', 'SE YEON (이세연),이범훈', '이범훈', '3', '1', '2022.11.07', 'SE YEON', '포크라노스', '가요 / 인디', '04:07'], ['초혼', '지훈', '지훈', '지훈', '홍창석', '3', '1', '2022.11.07', '지훈의소리', '(주)퍼플파인엔터테인먼트', '가요 / 인디', '04:01'], ['길', '손진영', '손진영', '손진영', '정소리', '15', '', '2022.11.07', '손진영 악단', '우조엔터테인먼트', '가요 / 발라드', '05:14'], ['3월의 어느 날', '정은아', '정은아', '정은아', '정은아', '5', '', '2022.11.07', '안병훈', '㈜다날엔터테인먼트', '가요 / 발라드', '03:49'], ['오늘도 소중한 너에게', '안지민', '안지민', '안지민', '안지민', '6', '', '2022.11.07', '안병훈', '㈜다날엔터테인먼트', '가요 / 발라드', '03:48'], ['어디야 지금', '황인혁', '황인혁', '황인혁,박지영', '황인혁,마현권,박희수', '834', '11', '2022.11.07', '오네스타컴퍼니', '지니뮤직', '가요 / 발라드', '04:04'], ['ㅋㅋㅋㅋㅋ', '상우', '상우', '상우', '상우,김창대', '1', '', '2022.11.07', '안병훈', '㈜다날엔터테인먼트', '가요 / 랩/힙합', '03:21'], ['감동을주고싶으니까', 'KitsuNeko', 'KitsuNeko,GUNYUNG', 'KitsuNeko', 'GUNYUNG', '0', '', '2022.11.07', 'KitsuNeko', '사운드프레스', '가요 / 랩/힙합', '03:16'], ['해피엔딩', '쥬얼리', '6', '', '2022.11.07', '디지탈아트', '빅밴드', '가요 / 트로트', '03:44'], ['건배', '김영애', '김민성', '김영애', '길민우', '5', '1', '2022.11.07', 'kya엔터테인먼트', '빅밴드', '가요 / 트로트', '03:28'], ['귀기울여', '톤앤톤즈 (Tone&Tones)', 'MooVin (무빈),이석진,정재욱', 'MooVin (무빈)', '곽원일', '4', '', '2022.11.07', '톤앤톤즈(Tone&Tones)', '주식회사 사운드리퍼블리카', '가요 / 발라드', '04:36'], ['사망이나 생명이나', '이슬아', '겸빛', '겸빛', '은은', '4', '', '2022.11.07', '리마인드뮤직', '주식회사 사운드리퍼블리카', '가요 / 발라드', '04:29'], ['주문', '윤소소', '윤소소', '윤소소', '윤소소,이성배', '0', '', '2022.11.07', '소소', '주식회사 사운드리퍼블리카', '가요 / 인디', '03:10'], ['자메뷰 (Jamais Vu)', '전찬빈', '전찬빈', '전찬빈', '전찬빈,천재준', '1', '1', '2022.11.07', 'JMG(로칼하이레코즈)', '미러볼뮤직', '가요 / 인디', '03:04'], ['Candy Candy', '리피문 (LIPIMOON)', 'Koruru', '히나', 'Koruru', '6', '1', '2022.11.07', '리피문 (LIPIMOON)', '㈜ KOBUCO', '가요 / 댄스', '03:29'], ['이 계절이 떠나면', '손윤옥', '주찬희 (FAB),카민 (Carmine),신유나', '주찬희 (FAB),카민 (Carmine),신유나', '주찬희 (FAB)', '11', '1', '2022.11.07', '스튜디오블랙', 'NHN벅스', '가요 / 발라드', '03:23'], ['우리 나중에는', '옥필 (OKFEEL)', '옥필 (OKFEEL)', '옥필 (OKFEEL)', '이해준', '2', '', '2022.11.07', 'Tori Ent.', '주식회사 사운드리퍼블리카', '가요 / 발라드', '03:47'], ['Call Me Everyday (With MuLAinHolli)', '화쵸 (Hwa Cho)', 'whoUA,wooly,김진희,MuLAinHolli', 'MuLAinHolli', 'wooly,김진희,whoUA', '0', '', '2022.11.07', 'Hwa Cho', '주식회사 루미넌트엔터테인먼트', '가요 / 랩/힙합', '02:24']]\n"
     ]
    }
   ],
   "source": [
    "songURL_format = \"https://www.genie.co.kr/detail/songInfo?xgnm={}\"\n",
    "albumURL_format = \"https://www.genie.co.kr/detail/albumInfo?axnm={}\"\n",
    "\n",
    "list_selector = [\"#body-content > div.song-main-infos > div.info-zone > h2\",\n",
    "                 \"#body-content > div.song-main-infos > div.info-zone > ul > li:nth-child(1) > span.value > a\",\n",
    "                 \"#body-content > div.song-main-infos > div.info-zone > ul > li:nth-child(6) > span.value\",\n",
    "                 \"#body-content > div.song-main-infos > div.info-zone > ul > li:nth-child(5) > span.value\",\n",
    "                 \"#body-content > div.song-main-infos > div.info-zone > ul > li:nth-child(7) > span.value\",\n",
    "                 \"#body-content > div.song-main-infos > div.aside-zone.daily-chart > div.total > div:nth-child(2) > p\",\n",
    "                 \"#emLikeCount\",\n",
    "                 \"#body-content > div.song-main-infos > div.info-zone > ul > li:nth-child(3) > span.value\",\n",
    "                 \"#body-content > div.song-main-infos > div.info-zone > ul > li:nth-child(4) > span.value\",\n",
    "                ]\n",
    "\n",
    "list_selector_album = [\"#body-content > div.album-detail-infos > div.info-zone > ul > li:nth-child(5) > span.value\",\n",
    "                       \"#body-content > div.album-detail-infos > div.info-zone > ul > li:nth-child(4) > span.value\",\n",
    "                       \"#body-content > div.album-detail-infos > div.info-zone > ul > li:nth-child(3) > span.value\",\n",
    "                      ]\n",
    "\n",
    "songInfo = [] #곡의 정보를 list형태로 저장하기 위한 list\n",
    "albumInfo = [] # (앨범)데이터 임시 저장소, 나중에 songInfo와 합병시킴\n",
    "\n",
    "# album id로부터 앨범의 발매시점, 기획사, 발매사 정보를 얻는다\n",
    "\n",
    "url = albumURL_format.format(id)\n",
    "driver.get(url)\n",
    "chart = driver.page_source\n",
    "soup = BeautifulSoup(chart, 'html.parser')\n",
    "\n",
    "tmpList = []\n",
    "for selector in list_selector_album:\n",
    "    raw_data = soup.select(selector)\n",
    "    for tag in raw_data:\n",
    "        tmpList.append( tag.get_text().strip() )\n",
    "\n",
    "albumInfo.append(tmpList)\n",
    "\n",
    "# song id로부터 곡의 정보들을 얻는다\n",
    "\n",
    "url = songURL_format.format(id)\n",
    "driver.get(url)\n",
    "chart = driver.page_source\n",
    "soup = BeautifulSoup(chart, 'html.parser')\n",
    "\n",
    "cnt = 1 # tuple(column) 순서 맞추기 위해서...\n",
    "tmpList = []\n",
    "for selector in list_selector:\n",
    "    if cnt == 8:\n",
    "        tmpList = tmpList + albumInfo[sid_cnt]\n",
    "    raw_data = soup.select(selector)\n",
    "    for tag in raw_data:\n",
    "        tmpList.append( tag.get_text().strip() )\n",
    "    cnt += 1\n",
    "\n",
    "songInfo.append(tmpList)\n",
    "sid_cnt += 1\n",
    "    \n"
   ]
  },
  {
   "cell_type": "code",
   "execution_count": 11,
   "id": "249c55e5",
   "metadata": {},
   "outputs": [],
   "source": [
    "# 곡 명, 스트리밍 수, 좋아요 수 --> ,를 ''로 바꾸어 주자\n",
    "# 가수, 작곡가, 작사가, 편곡자, 기획사, 발매사 --> ,를 & 로 바꾸어 주자.\n",
    "\n",
    "\n",
    "f = open(\"./test.csv\", \"w\")\n",
    "\n",
    "tup = \"곡 명, 가수, 작곡가, 작사가, 편곡자, 스트리밍 수, 좋아요 수, 발매시점, 기획사, 발매사, 장르, 재생시간\\n\"\n",
    "f.write(tup)\n",
    "\n",
    "for row in songInfo:\n",
    "    index = 1\n",
    "    for col in row:\n",
    "        if index in (1, 6, 7):\n",
    "            col = col.replace(',', '') \n",
    "        elif index in (2, 3, 4, 5, 9, 10):\n",
    "            col = col.replace(',', ' & ')\n",
    "        \n",
    "        if index == 12:\n",
    "            col += '\\n'\n",
    "        else:\n",
    "            col += \", \"\n",
    "            \n",
    "        f.write(col)\n",
    "        index += 1\n",
    "        \n",
    "f.close()"
   ]
  },
  {
   "cell_type": "code",
   "execution_count": null,
   "id": "9589b05c",
   "metadata": {},
   "outputs": [],
   "source": []
  },
  {
   "cell_type": "code",
   "execution_count": null,
   "id": "edba32ad",
   "metadata": {},
   "outputs": [],
   "source": []
  }
 ],
 "metadata": {
  "kernelspec": {
   "display_name": "Python 3",
   "language": "python",
   "name": "python3"
  },
  "language_info": {
   "codemirror_mode": {
    "name": "ipython",
    "version": 3
   },
   "file_extension": ".py",
   "mimetype": "text/x-python",
   "name": "python",
   "nbconvert_exporter": "python",
   "pygments_lexer": "ipython3",
   "version": "3.8.8"
  }
 },
 "nbformat": 4,
 "nbformat_minor": 5
}
