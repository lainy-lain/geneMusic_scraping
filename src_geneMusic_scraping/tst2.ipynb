{
 "cells": [
  {
   "cell_type": "code",
   "execution_count": 8,
   "id": "b8ff2c34",
   "metadata": {
    "scrolled": true
   },
   "outputs": [
    {
     "name": "stderr",
     "output_type": "stream",
     "text": [
      "<ipython-input-8-78626fa46154>:6: DeprecationWarning: executable_path has been deprecated, please pass in a Service object\n",
      "  driver = webdriver.Chrome('D:\\webcrawling\\chromedriver.exe')\n"
     ]
    }
   ],
   "source": [
    "from selenium import webdriver\n",
    "from bs4 import BeautifulSoup\n",
    "import re\n",
    "import time\n",
    "\n",
    "driver = webdriver.Chrome('D:\\webcrawling\\chromedriver.exe')"
   ]
  },
  {
   "cell_type": "code",
   "execution_count": 9,
   "id": "4e1cd46c",
   "metadata": {
    "scrolled": true
   },
   "outputs": [],
   "source": [
    "url_format = \"https://www.genie.co.kr/genre/{}?genreCode={}&pg={}\"\n",
    "genreCode = [\"M0100\"]\n",
    "\n",
    "songID = []\n",
    "albumID = []\n",
    "\n",
    "for gCode in genreCode:\n",
    "    for page in range(1,2):\n",
    "        url = url_format.format(gCode, gCode, page) #크롤링할 URL\n",
    "        driver.get(url)\n",
    "        chart = driver.page_source\n",
    "        soup = BeautifulSoup(chart, 'html.parser') #URL의 HTML을 읽어옴\n",
    "\n",
    "        # 해당 HTML에서 selector 영역만 parsing \n",
    "        selector = \"#body-content > div.songlist-box > div > table > tbody > tr.list\"\n",
    "        raw_data = soup.select(selector)\n",
    "        for tag in raw_data:\n",
    "            songID.append( tag.get('songid') )\n",
    "\n",
    "        # 해당 HTML에서 selector 영역만 parsing (앨범 정보 영역)\n",
    "        selector = \"#body-content > div.songlist-box > div > table > tbody > tr.list > td.info > a.albumtitle.ellipsis\"\n",
    "        raw_data = soup.select(selector)\n",
    "        for tag in raw_data:\n",
    "            string = tag.get('onclick')\n",
    "            album_id = re.sub(r'[^0-9]', '', string)\n",
    "            albumID.append( album_id )\n"
   ]
  },
  {
   "cell_type": "code",
   "execution_count": 13,
   "id": "82b21490",
   "metadata": {},
   "outputs": [
    {
     "name": "stdout",
     "output_type": "stream",
     "text": [
      "['']\n"
     ]
    }
   ],
   "source": [
    "songURL_format = \"https://www.genie.co.kr/detail/songInfo?xgnm={}\"\n",
    "albumURL_format = \"https://www.genie.co.kr/detail/albumInfo?axnm={}\"\n",
    "\n",
    "list_selector = [\"#body-content > div.song-main-infos > div.info-zone > h2\",\n",
    "                 \"#body-content > div.song-main-infos > div.info-zone > ul > li:nth-child(1) > span.value > a\",\n",
    "                 \"#body-content > div.song-main-infos > div.info-zone > ul > li:nth-child(6) > span.value\",\n",
    "                 \"#body-content > div.song-main-infos > div.info-zone > ul > li:nth-child(5) > span.value\",\n",
    "                 \"#body-content > div.song-main-infos > div.info-zone > ul > li:nth-child(7) > span.value\",\n",
    "                 \"#body-content > div.song-main-infos > div.aside-zone.daily-chart > div.total > div:nth-child(2) > p\",\n",
    "                 \"#emLikeCount\",\n",
    "                 \"#body-content > div.song-main-infos > div.info-zone > ul > li:nth-child(3) > span.value\",\n",
    "                 \"#body-content > div.song-main-infos > div.info-zone > ul > li:nth-child(4) > span.value\",\n",
    "                ]\n",
    "\n",
    "list_selector_album = [\"#body-content > div.album-detail-infos > div.info-zone > ul > li:nth-child(5) > span.value\",\n",
    "                       \"#body-content > div.album-detail-infos > div.info-zone > ul > li:nth-child(4) > span.value\",\n",
    "                       \"#body-content > div.album-detail-infos > div.info-zone > ul > li:nth-child(3) > span.value\",\n",
    "                      ]\n",
    "\n",
    "songInfo = [] #곡의 정보를 list형태로 저장하기 위한 list\n",
    "albumInfo = [] # (앨범)데이터 임시 저장소, 나중에 songInfo와 합병시킴\n",
    "\n",
    "\n",
    "# song id로부터 곡의 정보들을 얻는다\n",
    "url = songURL_format.format(\"98769383\")\n",
    "driver.get(url)\n",
    "chart = driver.page_source\n",
    "soup = BeautifulSoup(chart, 'html.parser')\n",
    "\n",
    "selector = \"#body-content > div.song-main-infos > div.info-zone > ul > li:nth-child(4) > span.value\"\n",
    "raw_data = soup.select(selector)\n",
    "\n",
    "li = []\n",
    "\n",
    "for tag in raw_data:\n",
    "    li.append( tag.get_text().strip() )\n",
    "\n",
    "print(li)\n",
    "\n",
    "    \n",
    "\n",
    " \n",
    "        \n",
    "        # tmpList.append( tag.get_text().strip() )\n",
    "  \n",
    "\n",
    "\n",
    "    \n"
   ]
  },
  {
   "cell_type": "code",
   "execution_count": 11,
   "id": "249c55e5",
   "metadata": {},
   "outputs": [],
   "source": [
    "# 곡 명, 스트리밍 수, 좋아요 수 --> ,를 ''로 바꾸어 주자\n",
    "# 가수, 작곡가, 작사가, 편곡자, 기획사, 발매사 --> ,를 & 로 바꾸어 주자.\n",
    "\n",
    "\n",
    "f = open(\"./test.csv\", \"w\")\n",
    "\n",
    "tup = \"곡 명, 가수, 작곡가, 작사가, 편곡자, 스트리밍 수, 좋아요 수, 발매시점, 기획사, 발매사, 장르, 재생시간\\n\"\n",
    "f.write(tup)\n",
    "\n",
    "for row in songInfo:\n",
    "    index = 1\n",
    "    for col in row:\n",
    "        if index in (1, 6, 7):\n",
    "            col = col.replace(',', '') \n",
    "        elif index in (2, 3, 4, 5, 9, 10):\n",
    "            col = col.replace(',', ' & ')\n",
    "        \n",
    "        if index == 12:\n",
    "            col += '\\n'\n",
    "        else:\n",
    "            col += \", \"\n",
    "            \n",
    "        f.write(col)\n",
    "        index += 1\n",
    "        \n",
    "f.close()"
   ]
  },
  {
   "cell_type": "code",
   "execution_count": null,
   "id": "9589b05c",
   "metadata": {},
   "outputs": [],
   "source": []
  },
  {
   "cell_type": "code",
   "execution_count": null,
   "id": "edba32ad",
   "metadata": {},
   "outputs": [],
   "source": []
  }
 ],
 "metadata": {
  "kernelspec": {
   "display_name": "Python 3",
   "language": "python",
   "name": "python3"
  },
  "language_info": {
   "codemirror_mode": {
    "name": "ipython",
    "version": 3
   },
   "file_extension": ".py",
   "mimetype": "text/x-python",
   "name": "python",
   "nbconvert_exporter": "python",
   "pygments_lexer": "ipython3",
   "version": "3.8.8"
  }
 },
 "nbformat": 4,
 "nbformat_minor": 5
}
